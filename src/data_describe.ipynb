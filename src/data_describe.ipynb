{
 "cells": [
  {
   "cell_type": "code",
   "execution_count": 2,
   "metadata": {},
   "outputs": [],
   "source": [
    "from utils import *\n",
    "from preprocess import *\n",
    "import config as cfg"
   ]
  },
  {
   "cell_type": "code",
   "execution_count": 5,
   "metadata": {},
   "outputs": [],
   "source": [
    "pubs_train = load_json(cfg.TRAIN_AUTHOR_PATH)"
   ]
  },
  {
   "cell_type": "code",
   "execution_count": 10,
   "metadata": {
    "scrolled": true
   },
   "outputs": [
    {
     "name": "stdout",
     "output_type": "stream",
     "text": [
      "0 yong_chen\n",
      "1 yi_shi\n",
      "2 tao_tang\n",
      "3 shuo_chen\n",
      "4 qing_huang\n",
      "5 min_yang\n",
      "6 ran_tao\n",
      "7 yu_cao\n",
      "8 shanqing_zhang\n",
      "9 lihua_xiao\n",
      "10 ting_chen\n",
      "11 xiaohua_liu\n",
      "12 kazuhiro_yamamoto\n",
      "13 zhiguo_liu\n",
      "14 shigeo_nakamura\n",
      "15 miao_du\n",
      "16 lei_liu\n",
      "17 liping_xie\n",
      "18 lu_zhang\n",
      "19 weili_zhang\n",
      "20 song_li\n",
      "21 kai_chen\n",
      "22 min_shao\n",
      "23 yong_huang\n",
      "24 rong_zeng\n",
      "25 tsuyoshi_fujita\n",
      "26 jun_ye\n",
      "27 shu_wang\n",
      "28 qi_wu\n",
      "29 nobuo_tanaka\n",
      "30 yuzhong_wang\n",
      "31 yuanfang_liu\n",
      "32 kai_wang\n",
      "33 jing_zhang\n",
      "34 ping_xu\n",
      "35 walter_thiel\n",
      "36 jun_huang\n",
      "37 ping_zhang\n",
      "38 xiaowei_li\n",
      "39 nobuyuki_tanaka\n",
      "40 xiaofan_yang\n",
      "41 zhong_chen\n",
      "42 xiaoming_sun\n",
      "43 qiang_fu\n",
      "44 xiangyu_zhang\n",
      "45 koji_abe\n",
      "46 yi_zhu\n",
      "47 xiaoyan_zhu\n",
      "48 xiaoming_zheng\n",
      "49 yu_zhou\n",
      "50 lin_xu\n",
      "51 jun_zhao\n",
      "52 yong_ding\n",
      "53 takashi_nakajima\n",
      "54 xiaodong_lin\n",
      "55 xiaodong_zhang\n",
      "56 yi_zhang\n",
      "57 lijun_zhang\n",
      "58 min_wei\n",
      "59 li_yang\n",
      "60 xinghua_zhou\n",
      "61 shihua_wu\n",
      "62 jun_lin\n",
      "63 min_xie\n",
      "64 ying_gu\n",
      "65 won_kim\n",
      "66 liqing_zhang\n",
      "67 lei_guo\n",
      "68 toshiyuki_tanaka\n",
      "69 qiang_wei\n",
      "70 ying_xu\n",
      "71 weili_wu\n",
      "72 wei_zhao\n",
      "73 xianming_shi\n",
      "74 xiaoping_hu\n",
      "75 yanling_zhang\n",
      "76 xinmin_zhang\n",
      "77 yu_zhang\n",
      "78 xiaohong_zhang\n",
      "79 liqun_zhang\n",
      "80 takeshi_fukuda\n",
      "81 weidong_zhang\n",
      "82 peng_chen\n",
      "83 min_wu\n",
      "84 tao_ye\n",
      "85 jinlong_zhang\n",
      "86 yuhang_wang\n",
      "87 ming_cheng\n",
      "88 wei_xing\n",
      "89 zhiwu_li\n",
      "90 masahiro_yamamoto\n",
      "91 ran_ran\n",
      "92 xu_shen\n",
      "93 jun_tan\n",
      "94 liang_liang\n",
      "95 yunhua_xu\n",
      "96 michael_wagner\n",
      "97 lin_lu\n",
      "98 xiaojun_wang\n",
      "99 sanjay_gupta\n",
      "100 kun_yang\n"
     ]
    }
   ],
   "source": [
    "train_distri = []\n",
    "for i, name in enumerate(pubs_train):\n",
    "    print(i, name)\n",
    "    for j, identity in enumerate(pubs_train[name]):\n",
    "        train_distri.append(len(pubs_train[name][identity]))"
   ]
  },
  {
   "cell_type": "code",
   "execution_count": 11,
   "metadata": {},
   "outputs": [],
   "source": [
    "import matplotlib.pyplot as plt\n",
    "%matplotlib inline"
   ]
  },
  {
   "cell_type": "code",
   "execution_count": 27,
   "metadata": {},
   "outputs": [
    {
     "name": "stderr",
     "output_type": "stream",
     "text": [
      "E:\\anaconda3\\lib\\site-packages\\matplotlib\\axes\\_axes.py:6521: MatplotlibDeprecationWarning: \n",
      "The 'normed' kwarg was deprecated in Matplotlib 2.1 and will be removed in 3.1. Use 'density' instead.\n",
      "  alternative=\"'density'\", removal=\"3.1\")\n"
     ]
    },
    {
     "data": {
      "text/plain": [
       "(array([7.036e+03, 1.074e+03, 3.520e+02, 1.960e+02, 8.200e+01, 3.700e+01,\n",
       "        4.100e+01, 3.600e+01, 2.900e+01, 2.600e+01, 1.500e+01, 1.000e+01,\n",
       "        1.200e+01, 6.000e+00, 4.000e+00, 9.000e+00, 9.000e+00, 9.000e+00,\n",
       "        5.000e+00, 3.000e+00, 5.000e+00, 4.000e+00, 1.000e+00, 3.000e+00,\n",
       "        2.000e+00, 5.000e+00, 3.000e+00, 2.000e+00, 1.000e+00, 1.000e+00,\n",
       "        1.000e+00, 3.000e+00, 3.000e+00, 0.000e+00, 1.000e+00, 0.000e+00,\n",
       "        1.000e+00, 0.000e+00, 1.000e+00, 1.000e+00, 0.000e+00, 5.000e+00,\n",
       "        1.000e+00, 0.000e+00, 0.000e+00, 1.000e+00, 1.000e+00, 0.000e+00,\n",
       "        1.000e+00, 0.000e+00, 1.000e+00, 0.000e+00, 1.000e+00, 0.000e+00,\n",
       "        0.000e+00, 0.000e+00, 0.000e+00, 0.000e+00, 0.000e+00, 0.000e+00,\n",
       "        0.000e+00, 0.000e+00, 0.000e+00, 0.000e+00, 0.000e+00, 0.000e+00,\n",
       "        0.000e+00, 0.000e+00, 0.000e+00, 0.000e+00, 0.000e+00, 0.000e+00,\n",
       "        0.000e+00, 0.000e+00, 0.000e+00, 1.000e+00, 0.000e+00, 1.000e+00,\n",
       "        0.000e+00, 1.000e+00]),\n",
       " array([  2.    ,  13.6625,  25.325 ,  36.9875,  48.65  ,  60.3125,\n",
       "         71.975 ,  83.6375,  95.3   , 106.9625, 118.625 , 130.2875,\n",
       "        141.95  , 153.6125, 165.275 , 176.9375, 188.6   , 200.2625,\n",
       "        211.925 , 223.5875, 235.25  , 246.9125, 258.575 , 270.2375,\n",
       "        281.9   , 293.5625, 305.225 , 316.8875, 328.55  , 340.2125,\n",
       "        351.875 , 363.5375, 375.2   , 386.8625, 398.525 , 410.1875,\n",
       "        421.85  , 433.5125, 445.175 , 456.8375, 468.5   , 480.1625,\n",
       "        491.825 , 503.4875, 515.15  , 526.8125, 538.475 , 550.1375,\n",
       "        561.8   , 573.4625, 585.125 , 596.7875, 608.45  , 620.1125,\n",
       "        631.775 , 643.4375, 655.1   , 666.7625, 678.425 , 690.0875,\n",
       "        701.75  , 713.4125, 725.075 , 736.7375, 748.4   , 760.0625,\n",
       "        771.725 , 783.3875, 795.05  , 806.7125, 818.375 , 830.0375,\n",
       "        841.7   , 853.3625, 865.025 , 876.6875, 888.35  , 900.0125,\n",
       "        911.675 , 923.3375, 935.    ]),\n",
       " <a list of 80 Patch objects>)"
      ]
     },
     "execution_count": 27,
     "metadata": {},
     "output_type": "execute_result"
    },
    {
     "data": {
      "image/png": "[encoded data removed]",
      "text/plain": [
       "<Figure size 432x288 with 1 Axes>"
      ]
     },
     "metadata": {
      "needs_background": "light"
     },
     "output_type": "display_data"
    }
   ],
   "source": [
    "plt.hist(train_distri, bins=80, normed=0, facecolor=\"blue\", edgecolor=\"black\", alpha=0.7)"
   ]
  },
  {
   "cell_type": "code",
   "execution_count": 20,
   "metadata": {},
   "outputs": [],
   "source": [
    "import numpy as np\n",
    "import pandas as pd"
   ]
  },
  {
   "cell_type": "code",
   "execution_count": 23,
   "metadata": {},
   "outputs": [],
   "source": [
    "ar = pd.DataFrame(train_distri)"
   ]
  },
  {
   "cell_type": "code",
   "execution_count": 26,
   "metadata": {},
   "outputs": [
    {
     "data": {
      "text/html": [
       "<div>\n",
       "<style scoped>\n",
       "    .dataframe tbody tr th:only-of-type {\n",
       "        vertical-align: middle;\n",
       "    }\n",
       "\n",
       "    .dataframe tbody tr th {\n",
       "        vertical-align: top;\n",
       "    }\n",
       "\n",
       "    .dataframe thead th {\n",
       "        text-align: right;\n",
       "    }\n",
       "</style>\n",
       "<table border=\"1\" class=\"dataframe\">\n",
       "  <thead>\n",
       "    <tr style=\"text-align: right;\">\n",
       "      <th></th>\n",
       "      <th>0</th>\n",
       "    </tr>\n",
       "  </thead>\n",
       "  <tbody>\n",
       "    <tr>\n",
       "      <td>count</td>\n",
       "      <td>9043.000000</td>\n",
       "    </tr>\n",
       "    <tr>\n",
       "      <td>mean</td>\n",
       "      <td>14.277895</td>\n",
       "    </tr>\n",
       "    <tr>\n",
       "      <td>std</td>\n",
       "      <td>37.620182</td>\n",
       "    </tr>\n",
       "    <tr>\n",
       "      <td>min</td>\n",
       "      <td>2.000000</td>\n",
       "    </tr>\n",
       "    <tr>\n",
       "      <td>25%</td>\n",
       "      <td>3.000000</td>\n",
       "    </tr>\n",
       "    <tr>\n",
       "      <td>50%</td>\n",
       "      <td>6.000000</td>\n",
       "    </tr>\n",
       "    <tr>\n",
       "      <td>75%</td>\n",
       "      <td>12.000000</td>\n",
       "    </tr>\n",
       "    <tr>\n",
       "      <td>max</td>\n",
       "      <td>935.000000</td>\n",
       "    </tr>\n",
       "  </tbody>\n",
       "</table>\n",
       "</div>"
      ],
      "text/plain": [
       "                 0\n",
       "count  9043.000000\n",
       "mean     14.277895\n",
       "std      37.620182\n",
       "min       2.000000\n",
       "25%       3.000000\n",
       "50%       6.000000\n",
       "75%      12.000000\n",
       "max     935.000000"
      ]
     },
     "execution_count": 26,
     "metadata": {},
     "output_type": "execute_result"
    }
   ],
   "source": [
    "ar.describe()"
   ]
  },
  {
   "cell_type": "markdown",
   "metadata": {},
   "source": [
    "- 可以看出75%的作者发表的论文数在12以下，最多的有935篇（？）\n",
    "- 这说明最后的聚类结果也应该大部分作者的论文数都不是很多，少部分100多/200多篇"
   ]
  },
  {
   "cell_type": "code",
   "execution_count": null,
   "metadata": {},
   "outputs": [],
   "source": []
  }
 ],
 "metadata": {
  "kernelspec": {
   "display_name": "Python 3",
   "language": "python",
   "name": "python3"
  },
  "language_info": {
   "codemirror_mode": {
    "name": "ipython",
    "version": 3
   },
   "file_extension": ".py",
   "mimetype": "text/x-python",
   "name": "python",
   "nbconvert_exporter": "python",
   "pygments_lexer": "ipython3",
   "version": "3.7.1"
  }
 },
 "nbformat": 4,
 "nbformat_minor": 2
}
